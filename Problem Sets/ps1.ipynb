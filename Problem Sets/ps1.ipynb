{
 "cells": [
  {
   "cell_type": "code",
   "execution_count": null,
   "metadata": {},
   "outputs": [],
   "source": []
  }
 ],
 "metadata": {
  "kernelspec": {
   "display_name": "nanogravtutorials",
   "language": "python",
   "name": "python3"
  },
  "language_info": {
   "name": "python",
   "version": "3.9.12"
  },
  "orig_nbformat": 4,
  "vscode": {
   "interpreter": {
    "hash": "9bd01b65e56a8aba237fa11be2a3eef73219c07ac65b1a7d64528d99c0f37ee4"
   }
  }
 },
 "nbformat": 4,
 "nbformat_minor": 2
}
